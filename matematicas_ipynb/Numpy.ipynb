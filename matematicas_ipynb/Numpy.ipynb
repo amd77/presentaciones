{
 "cells": [
  {
   "cell_type": "markdown",
   "metadata": {},
   "source": [
    "# Numpy"
   ]
  },
  {
   "cell_type": "code",
   "execution_count": 4,
   "metadata": {
    "collapsed": false
   },
   "outputs": [
    {
     "data": {
      "image/png": "[encoded data removed]",
      "text/plain": [
       "<matplotlib.figure.Figure at 0x7ff1e403ecc0>"
      ]
     },
     "metadata": {},
     "output_type": "display_data"
    }
   ],
   "source": [
    ">>> import numpy as np\n",
    ">>> a = np.arange(6).reshape(2, 3)  # vector de 6 numeros consecutivos convertido a matriz de 2x3\n",
    ">>> b = np.array([(1.5,2,3), (4,5,6)])  # matriz 2 filas y 3 columnas definida a mano\n",
    ">>> c = np.sin(b)                    # calcular el seno() de todos los elementos\n",
    ">>> d = c > 0.5                      # matriz booleana que indica si los elementos son > 0.5\n",
    ">>> e = c * d                        # producto elemento a elemento (valores * booleano: mascara)\n",
    ">>> import matplotlib.pyplot as plt\n",
    ">>> plt.imshow(c, cmap='gray')\n",
    ">>> plt.show()                       # mostrar una matriz como una imagen en escala de grises"
   ]
  }
 ],
 "metadata": {
  "kernelspec": {
   "display_name": "Python 3",
   "language": "python",
   "name": "python3"
  },
  "language_info": {
   "codemirror_mode": {
    "name": "ipython",
    "version": 3
   },
   "file_extension": ".py",
   "mimetype": "text/x-python",
   "name": "python",
   "nbconvert_exporter": "python",
   "pygments_lexer": "ipython3",
   "version": "3.6.0"
  }
 },
 "nbformat": 4,
 "nbformat_minor": 2
}
